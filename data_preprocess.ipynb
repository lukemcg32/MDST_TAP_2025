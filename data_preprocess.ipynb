{
 "cells": [
  {
   "cell_type": "markdown",
   "metadata": {},
   "source": [
    "## Exploratory Data Analysis\n",
    "#### First step in any data science or machine learning project\n",
    "\n",
    "make sure you have a folder named \"data\" in your project folder and the data folder is in the same folder as this     \n",
    "make sure you are in your virtural environment    \n",
    "\n",
    "python3 -m venv venv  \n",
    "source venv/bin/activate   # macOS/Linux  \n",
    "venv\\Scripts\\activate    # Windows  "
   ]
  },
  {
   "cell_type": "code",
   "execution_count": 3,
   "metadata": {},
   "outputs": [],
   "source": [
    "import pandas as pd\n",
    "import numpy as np\n",
    "import matplotlib.pyplot as plt"
   ]
  },
  {
   "cell_type": "code",
   "execution_count": 4,
   "metadata": {},
   "outputs": [
    {
     "name": "stdout",
     "output_type": "stream",
     "text": [
      "Loading US Accidents dataset...\n",
      "Sample size: 7728394\n"
     ]
    }
   ],
   "source": [
    "# Read in data\n",
    "print(\"Loading US Accidents dataset...\")\n",
    "us_accidents = pd.read_csv(\"US_Accidents_March23.csv\")\n",
    "print(f\"Sample size: {len(us_accidents)}\")"
   ]
  },
  {
   "cell_type": "code",
   "execution_count": 5,
   "metadata": {},
   "outputs": [
    {
     "name": "stdout",
     "output_type": "stream",
     "text": [
      "(7728394, 46)\n",
      "<class 'pandas.core.frame.DataFrame'>\n",
      "RangeIndex: 7728394 entries, 0 to 7728393\n",
      "Data columns (total 46 columns):\n",
      " #   Column                 Dtype  \n",
      "---  ------                 -----  \n",
      " 0   ID                     object \n",
      " 1   Source                 object \n",
      " 2   Severity               int64  \n",
      " 3   Start_Time             object \n",
      " 4   End_Time               object \n",
      " 5   Start_Lat              float64\n",
      " 6   Start_Lng              float64\n",
      " 7   End_Lat                float64\n",
      " 8   End_Lng                float64\n",
      " 9   Distance(mi)           float64\n",
      " 10  Description            object \n",
      " 11  Street                 object \n",
      " 12  City                   object \n",
      " 13  County                 object \n",
      " 14  State                  object \n",
      " 15  Zipcode                object \n",
      " 16  Country                object \n",
      " 17  Timezone               object \n",
      " 18  Airport_Code           object \n",
      " 19  Weather_Timestamp      object \n",
      " 20  Temperature(F)         float64\n",
      " 21  Wind_Chill(F)          float64\n",
      " 22  Humidity(%)            float64\n",
      " 23  Pressure(in)           float64\n",
      " 24  Visibility(mi)         float64\n",
      " 25  Wind_Direction         object \n",
      " 26  Wind_Speed(mph)        float64\n",
      " 27  Precipitation(in)      float64\n",
      " 28  Weather_Condition      object \n",
      " 29  Amenity                bool   \n",
      " 30  Bump                   bool   \n",
      " 31  Crossing               bool   \n",
      " 32  Give_Way               bool   \n",
      " 33  Junction               bool   \n",
      " 34  No_Exit                bool   \n",
      " 35  Railway                bool   \n",
      " 36  Roundabout             bool   \n",
      " 37  Station                bool   \n",
      " 38  Stop                   bool   \n",
      " 39  Traffic_Calming        bool   \n",
      " 40  Traffic_Signal         bool   \n",
      " 41  Turning_Loop           bool   \n",
      " 42  Sunrise_Sunset         object \n",
      " 43  Civil_Twilight         object \n",
      " 44  Nautical_Twilight      object \n",
      " 45  Astronomical_Twilight  object \n",
      "dtypes: bool(13), float64(12), int64(1), object(20)\n",
      "memory usage: 2.0+ GB\n",
      "None\n",
      "    ID   Source  Severity           Start_Time             End_Time  \\\n",
      "0  A-1  Source2         3  2016-02-08 05:46:00  2016-02-08 11:00:00   \n",
      "1  A-2  Source2         2  2016-02-08 06:07:59  2016-02-08 06:37:59   \n",
      "2  A-3  Source2         2  2016-02-08 06:49:27  2016-02-08 07:19:27   \n",
      "3  A-4  Source2         3  2016-02-08 07:23:34  2016-02-08 07:53:34   \n",
      "4  A-5  Source2         2  2016-02-08 07:39:07  2016-02-08 08:09:07   \n",
      "\n",
      "   Start_Lat  Start_Lng  End_Lat  End_Lng  Distance(mi)  ... Roundabout  \\\n",
      "0  39.865147 -84.058723      NaN      NaN          0.01  ...      False   \n",
      "1  39.928059 -82.831184      NaN      NaN          0.01  ...      False   \n",
      "2  39.063148 -84.032608      NaN      NaN          0.01  ...      False   \n",
      "3  39.747753 -84.205582      NaN      NaN          0.01  ...      False   \n",
      "4  39.627781 -84.188354      NaN      NaN          0.01  ...      False   \n",
      "\n",
      "  Station   Stop Traffic_Calming Traffic_Signal Turning_Loop Sunrise_Sunset  \\\n",
      "0   False  False           False          False        False          Night   \n",
      "1   False  False           False          False        False          Night   \n",
      "2   False  False           False           True        False          Night   \n",
      "3   False  False           False          False        False          Night   \n",
      "4   False  False           False           True        False            Day   \n",
      "\n",
      "  Civil_Twilight Nautical_Twilight Astronomical_Twilight  \n",
      "0          Night             Night                 Night  \n",
      "1          Night             Night                   Day  \n",
      "2          Night               Day                   Day  \n",
      "3            Day               Day                   Day  \n",
      "4            Day               Day                   Day  \n",
      "\n",
      "[5 rows x 46 columns]\n",
      "ID                             0\n",
      "Source                         0\n",
      "Severity                       0\n",
      "Start_Time                     0\n",
      "End_Time                       0\n",
      "Start_Lat                      0\n",
      "Start_Lng                      0\n",
      "End_Lat                  3402762\n",
      "End_Lng                  3402762\n",
      "Distance(mi)                   0\n",
      "Description                    5\n",
      "Street                     10869\n",
      "City                         253\n",
      "County                         0\n",
      "State                          0\n",
      "Zipcode                     1915\n",
      "Country                        0\n",
      "Timezone                    7808\n",
      "Airport_Code               22635\n",
      "Weather_Timestamp         120228\n",
      "Temperature(F)            163853\n",
      "Wind_Chill(F)            1999019\n",
      "Humidity(%)               174144\n",
      "Pressure(in)              140679\n",
      "Visibility(mi)            177098\n",
      "Wind_Direction            175206\n",
      "Wind_Speed(mph)           571233\n",
      "Precipitation(in)        2203586\n",
      "Weather_Condition         173459\n",
      "Amenity                        0\n",
      "Bump                           0\n",
      "Crossing                       0\n",
      "Give_Way                       0\n",
      "Junction                       0\n",
      "No_Exit                        0\n",
      "Railway                        0\n",
      "Roundabout                     0\n",
      "Station                        0\n",
      "Stop                           0\n",
      "Traffic_Calming                0\n",
      "Traffic_Signal                 0\n",
      "Turning_Loop                   0\n",
      "Sunrise_Sunset             23246\n",
      "Civil_Twilight             23246\n",
      "Nautical_Twilight          23246\n",
      "Astronomical_Twilight      23246\n",
      "dtype: int64\n"
     ]
    }
   ],
   "source": [
    "# Check dataset size\n",
    "print(us_accidents.shape)\n",
    "# Get column types \n",
    "print(us_accidents.info())\n",
    "# View first few rows\n",
    "print(us_accidents.head())\n",
    "# Check for missing values\n",
    "print(us_accidents.isna().sum())"
   ]
  },
  {
   "cell_type": "code",
   "execution_count": 6,
   "metadata": {},
   "outputs": [],
   "source": [
    "# Group Pratices\n",
    "# TODO: 1. Find the last 5 rows\n",
    "\n",
    "# TODO: 2. Find the mean value of \"Distance(mi)\"\n",
    "\n",
    "# TODO: 3. Find the number of unique values in \"Weather_Condition\"\n",
    "\n",
    "# TODO: 4. Find total number of accidents in MI\n",
    "\n",
    "# TODO: 5. Choose one column that interests you, find some patterns/interesting facts, and share"
   ]
  },
  {
   "cell_type": "markdown",
   "metadata": {},
   "source": [
    "## Basic Data Sampling\n",
    "#### Sampling allows us to work with a smaller, representative subset while preserving key distributions\n",
    "\n",
    "Look into this link for more data sampling techniques  \n",
    "https://www.qualtrics.com/experience-management/research/sampling-methods/"
   ]
  },
  {
   "cell_type": "code",
   "execution_count": 7,
   "metadata": {},
   "outputs": [
    {
     "name": "stdout",
     "output_type": "stream",
     "text": [
      "Severity\n",
      "2    0.79716\n",
      "3    0.16836\n",
      "4    0.02598\n",
      "1    0.00850\n",
      "Name: proportion, dtype: float64\n"
     ]
    }
   ],
   "source": [
    "# Sampling Goal: Extract a representative sample of 50,000 rows while maintaining the distribution of Severity.\n",
    "# Use simple random sampling with pandas.sample()\n",
    "us_accidents_sample = us_accidents.sample(n=50000, random_state=42) # random_state=42 ensures sample remains the same every time.\n",
    "print(us_accidents_sample[\"Severity\"].value_counts(normalize=True))\n"
   ]
  },
  {
   "cell_type": "code",
   "execution_count": 8,
   "metadata": {},
   "outputs": [],
   "source": [
    "# TODO: Find the distribution of Severity of us_accidents\n",
    "# Is the distribution of Severity of us_accidents_sample similar to that of us_accidents?"
   ]
  },
  {
   "cell_type": "code",
   "execution_count": 9,
   "metadata": {},
   "outputs": [],
   "source": [
    "# Random sampling may not preserve class proportions.\n",
    "# TODO: Try stratified sampling to preserve class proportions with sklearn \n",
    "# and compare the distribution with the original dataset"
   ]
  },
  {
   "cell_type": "code",
   "execution_count": 10,
   "metadata": {},
   "outputs": [],
   "source": [
    "# More practices: try other sampling methods on distribution of other features"
   ]
  },
  {
   "cell_type": "markdown",
   "metadata": {},
   "source": [
    "## Data Cleaning & Preprocessing\n",
    "#### Fixing or removing incorrect, corrupted, incorrectly formatted, duplicate, or incomplete data within a dataset\n",
    "Ways to handle missing values: https://www.analyticsvidhya.com/blog/2021/10/handling-missing-value/#h-list-of-methods-to-handle-missing-values-in-a-dataset  \n",
    "Handling missing values and outliers: https://medium.com/gen-ai-adventures/handling-missing-values-and-outliers-in-data-analysis-c1ffc2dd5051  \n",
    "Normalization methods: https://medium.com/@mkc940/different-normalization-methods-a1be71fe9f1  \n"
   ]
  },
  {
   "cell_type": "code",
   "execution_count": 11,
   "metadata": {},
   "outputs": [
    {
     "name": "stdout",
     "output_type": "stream",
     "text": [
      "End_Lat                  21959\n",
      "End_Lng                  21959\n",
      "Precipitation(in)        14375\n",
      "Wind_Chill(F)            13024\n",
      "Wind_Speed(mph)           3811\n",
      "Wind_Direction            1163\n",
      "Visibility(mi)            1136\n",
      "Humidity(%)               1126\n",
      "Weather_Condition         1108\n",
      "Temperature(F)            1061\n",
      "Pressure(in)               905\n",
      "Weather_Timestamp          795\n",
      "Nautical_Twilight          165\n",
      "Civil_Twilight             165\n",
      "Sunrise_Sunset             165\n",
      "Astronomical_Twilight      165\n",
      "Airport_Code               148\n",
      "Street                      83\n",
      "Timezone                    49\n",
      "Zipcode                     10\n",
      "Traffic_Calming              0\n",
      "Railway                      0\n",
      "Roundabout                   0\n",
      "Station                      0\n",
      "Stop                         0\n",
      "Country                      0\n",
      "Traffic_Signal               0\n",
      "Junction                     0\n",
      "Turning_Loop                 0\n",
      "End_Time                     0\n",
      "Start_Time                   0\n",
      "Severity                     0\n",
      "No_Exit                      0\n",
      "Crossing                     0\n",
      "Give_Way                     0\n",
      "Bump                         0\n",
      "Amenity                      0\n",
      "Start_Lat                    0\n",
      "Start_Lng                    0\n",
      "Distance(mi)                 0\n",
      "Description                  0\n",
      "Source                       0\n",
      "City                         0\n",
      "County                       0\n",
      "State                        0\n",
      "ID                           0\n",
      "dtype: int64\n"
     ]
    }
   ],
   "source": [
    "# Number of null values for each column in descending order\n",
    "print(us_accidents_sample.isna().sum().sort_values(ascending=False))"
   ]
  },
  {
   "cell_type": "code",
   "execution_count": 12,
   "metadata": {},
   "outputs": [
    {
     "name": "stderr",
     "output_type": "stream",
     "text": [
      "/var/folders/sk/57wc0kxd0bld0mny_6rdm1g80000gn/T/ipykernel_92831/2923881683.py:2: FutureWarning: A value is trying to be set on a copy of a DataFrame or Series through chained assignment using an inplace method.\n",
      "The behavior will change in pandas 3.0. This inplace method will never work because the intermediate object on which we are setting values always behaves as a copy.\n",
      "\n",
      "For example, when doing 'df[col].method(value, inplace=True)', try using 'df.method({col: value}, inplace=True)' or df[col] = df[col].method(value) instead, to perform the operation inplace on the original object.\n",
      "\n",
      "\n",
      "  us_accidents_sample[\"End_Lat\"].fillna(us_accidents_sample[\"Start_Lat\"], inplace=True)\n",
      "/var/folders/sk/57wc0kxd0bld0mny_6rdm1g80000gn/T/ipykernel_92831/2923881683.py:3: FutureWarning: A value is trying to be set on a copy of a DataFrame or Series through chained assignment using an inplace method.\n",
      "The behavior will change in pandas 3.0. This inplace method will never work because the intermediate object on which we are setting values always behaves as a copy.\n",
      "\n",
      "For example, when doing 'df[col].method(value, inplace=True)', try using 'df.method({col: value}, inplace=True)' or df[col] = df[col].method(value) instead, to perform the operation inplace on the original object.\n",
      "\n",
      "\n",
      "  us_accidents_sample[\"End_Lng\"].fillna(us_accidents_sample[\"Start_Lng\"], inplace=True)\n"
     ]
    }
   ],
   "source": [
    "# Fill missing End_Lat and End_Lng with Start_Lat and Start_Lng (if missing)\n",
    "us_accidents_sample[\"End_Lat\"].fillna(us_accidents_sample[\"Start_Lat\"], inplace=True)\n",
    "us_accidents_sample[\"End_Lng\"].fillna(us_accidents_sample[\"Start_Lng\"], inplace=True)\n",
    "# Drop irrelevant columns (e.g., ID if not useful for prediction).\n",
    "us_accidents_sample.drop(columns=[\"ID\"], inplace=True)"
   ]
  },
  {
   "cell_type": "code",
   "execution_count": 13,
   "metadata": {},
   "outputs": [],
   "source": [
    "# TODO: Fill missing values for \"Wind_Speed(mph)\" and \"Visibility(mi)\" with the mean of their respective columns"
   ]
  },
  {
   "cell_type": "code",
   "execution_count": 14,
   "metadata": {},
   "outputs": [],
   "source": [
    "\n",
    "# TODO: Process all columns with missing values with appropriate methods (e.g., mean, median, mode, or drop etc.)"
   ]
  },
  {
   "cell_type": "code",
   "execution_count": 15,
   "metadata": {},
   "outputs": [],
   "source": [
    "# TODO Challenge: Apply KNN imputation for missing values of \"Start_Lat\" and \"Start_Lng\"\n",
    "from sklearn.impute import KNNImputer"
   ]
  },
  {
   "cell_type": "markdown",
   "metadata": {},
   "source": [
    "## Data Preprocessing\n",
    "#### Preparing and cleaning the dataset to make it more suitable for machine learning algorithms\n"
   ]
  },
  {
   "cell_type": "code",
   "execution_count": 16,
   "metadata": {},
   "outputs": [
    {
     "name": "stdout",
     "output_type": "stream",
     "text": [
      "['Day' 'Night' nan]\n"
     ]
    }
   ],
   "source": [
    "# Perform one-hot encoding on categorical column - \"Sunrise_Sunset\"\n",
    "print(us_accidents_sample[\"Sunrise_Sunset\"].unique())"
   ]
  },
  {
   "cell_type": "code",
   "execution_count": 17,
   "metadata": {},
   "outputs": [
    {
     "name": "stdout",
     "output_type": "stream",
     "text": [
      "[ 0.  1. nan]\n"
     ]
    }
   ],
   "source": [
    "us_accidents_sample[\"Sunrise_Sunset\"] = us_accidents_sample[\"Sunrise_Sunset\"].map({\"Day\": 0, \"Night\": 1})\n",
    "print(us_accidents_sample[\"Sunrise_Sunset\"].unique())"
   ]
  },
  {
   "cell_type": "code",
   "execution_count": 18,
   "metadata": {},
   "outputs": [],
   "source": [
    "# TODO: Choose another categorical column and apply encoding"
   ]
  },
  {
   "cell_type": "code",
   "execution_count": 19,
   "metadata": {},
   "outputs": [
    {
     "name": "stdout",
     "output_type": "stream",
     "text": [
      "<class 'pandas.core.frame.DataFrame'>\n",
      "Index: 50000 entries, 7133276 to 3460073\n",
      "Data columns (total 46 columns):\n",
      " #   Column                 Non-Null Count  Dtype         \n",
      "---  ------                 --------------  -----         \n",
      " 0   Source                 50000 non-null  object        \n",
      " 1   Severity               50000 non-null  int64         \n",
      " 2   Start_Time             50000 non-null  datetime64[ns]\n",
      " 3   End_Time               50000 non-null  object        \n",
      " 4   Start_Lat              50000 non-null  float64       \n",
      " 5   Start_Lng              50000 non-null  float64       \n",
      " 6   End_Lat                50000 non-null  float64       \n",
      " 7   End_Lng                50000 non-null  float64       \n",
      " 8   Distance(mi)           50000 non-null  float64       \n",
      " 9   Description            50000 non-null  object        \n",
      " 10  Street                 49917 non-null  object        \n",
      " 11  City                   50000 non-null  object        \n",
      " 12  County                 50000 non-null  object        \n",
      " 13  State                  50000 non-null  object        \n",
      " 14  Zipcode                49990 non-null  object        \n",
      " 15  Country                50000 non-null  object        \n",
      " 16  Timezone               49951 non-null  object        \n",
      " 17  Airport_Code           49852 non-null  object        \n",
      " 18  Weather_Timestamp      49205 non-null  object        \n",
      " 19  Temperature(F)         48939 non-null  float64       \n",
      " 20  Wind_Chill(F)          36976 non-null  float64       \n",
      " 21  Humidity(%)            48874 non-null  float64       \n",
      " 22  Pressure(in)           49095 non-null  float64       \n",
      " 23  Visibility(mi)         48864 non-null  float64       \n",
      " 24  Wind_Direction         48837 non-null  object        \n",
      " 25  Wind_Speed(mph)        46189 non-null  float64       \n",
      " 26  Precipitation(in)      35625 non-null  float64       \n",
      " 27  Weather_Condition      48892 non-null  object        \n",
      " 28  Amenity                50000 non-null  bool          \n",
      " 29  Bump                   50000 non-null  bool          \n",
      " 30  Crossing               50000 non-null  bool          \n",
      " 31  Give_Way               50000 non-null  bool          \n",
      " 32  Junction               50000 non-null  bool          \n",
      " 33  No_Exit                50000 non-null  bool          \n",
      " 34  Railway                50000 non-null  bool          \n",
      " 35  Roundabout             50000 non-null  bool          \n",
      " 36  Station                50000 non-null  bool          \n",
      " 37  Stop                   50000 non-null  bool          \n",
      " 38  Traffic_Calming        50000 non-null  bool          \n",
      " 39  Traffic_Signal         50000 non-null  bool          \n",
      " 40  Turning_Loop           50000 non-null  bool          \n",
      " 41  Sunrise_Sunset         49835 non-null  float64       \n",
      " 42  Civil_Twilight         49835 non-null  object        \n",
      " 43  Nautical_Twilight      49835 non-null  object        \n",
      " 44  Astronomical_Twilight  49835 non-null  object        \n",
      " 45  Year                   50000 non-null  int32         \n",
      "dtypes: bool(13), datetime64[ns](1), float64(13), int32(1), int64(1), object(17)\n",
      "memory usage: 13.4+ MB\n"
     ]
    }
   ],
   "source": [
    "# Convert 'Start_Time' to datetime and extract the year\n",
    "us_accidents_sample['Start_Time'] = us_accidents_sample['Start_Time'].str.split('.').str[0]\n",
    "us_accidents_sample['Start_Time'] = pd.to_datetime(us_accidents['Start_Time'].str.split('.').str[0], errors='coerce')\n",
    "us_accidents_sample['Year'] = us_accidents_sample['Start_Time'].dt.year\n",
    "us_accidents_sample.info()"
   ]
  },
  {
   "cell_type": "code",
   "execution_count": 20,
   "metadata": {},
   "outputs": [
    {
     "data": {
      "image/png": "[encoded data removed]",
      "text/plain": [
       "<Figure size 1000x600 with 1 Axes>"
      ]
     },
     "metadata": {},
     "output_type": "display_data"
    }
   ],
   "source": [
    "# Simple plot of accidents by year\n",
    "plt.figure(figsize=(10, 6))\n",
    "us_accidents_sample['Year'].value_counts().sort_index().plot(kind='bar')\n",
    "plt.title('Accidents by Year')\n",
    "plt.xlabel('Year')\n",
    "plt.ylabel('Number of Accidents')\n",
    "plt.show()"
   ]
  },
  {
   "cell_type": "code",
   "execution_count": 21,
   "metadata": {},
   "outputs": [],
   "source": [
    "# Does your plot show any interesting patterns or trends?\n",
    "# Does your sampled data show similar patterns/trends as the original dataset?"
   ]
  },
  {
   "cell_type": "code",
   "execution_count": 22,
   "metadata": {},
   "outputs": [],
   "source": [
    "# TODO: 1. Extract hour of the day from \"Start_Time\"\n",
    "# TODO: 2. Create new feature: duration = (End_Time - Start_Time)"
   ]
  },
  {
   "cell_type": "code",
   "execution_count": 23,
   "metadata": {},
   "outputs": [],
   "source": [
    "# TODO: 3. Try Min-Max Normalization on \"Distance(mi)\" \n",
    "from sklearn.preprocessing import MinMaxScaler\n",
    "\n",
    "# TODO: 4. Try Standardization on \"Precipitation(in)\"\n",
    "from sklearn.preprocessing import StandardScaler"
   ]
  },
  {
   "cell_type": "code",
   "execution_count": 24,
   "metadata": {},
   "outputs": [],
   "source": [
    "# Save the cleaned sample to a new CSV file\n",
    "us_accidents_sample.to_csv(\"US_Accidents_Cleaned.csv\", index=False)"
   ]
  },
  {
   "cell_type": "markdown",
   "metadata": {},
   "source": [
    "DO NOT normalize/standardize categorical features!!!"
   ]
  },
  {
   "cell_type": "markdown",
   "metadata": {},
   "source": [
    "## EDA for Traffic Flow Data "
   ]
  }
 ],
 "metadata": {
  "kernelspec": {
   "display_name": "venv",
   "language": "python",
   "name": "python3"
  },
  "language_info": {
   "codemirror_mode": {
    "name": "ipython",
    "version": 3
   },
   "file_extension": ".py",
   "mimetype": "text/x-python",
   "name": "python",
   "nbconvert_exporter": "python",
   "pygments_lexer": "ipython3",
   "version": "3.13.2"
  }
 },
 "nbformat": 4,
 "nbformat_minor": 2
}
